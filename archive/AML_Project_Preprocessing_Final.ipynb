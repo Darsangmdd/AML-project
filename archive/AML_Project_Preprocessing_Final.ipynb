{
  "nbformat": 4,
  "nbformat_minor": 0,
  "metadata": {
    "colab": {
      "provenance": []
    },
    "kernelspec": {
      "name": "python3",
      "display_name": "Python 3"
    },
    "language_info": {
      "name": "python"
    }
  },
  "cells": [
    {
      "cell_type": "code",
      "execution_count": null,
      "metadata": {
        "id": "n53JN9eaOjIH"
      },
      "outputs": [],
      "source": [
        "import pandas as pd\n",
        "import spacy\n",
        "import regex as re\n",
        "import nltk\n",
        "import numpy as np\n",
        "from nltk.corpus import stopwords\n",
        "from collections import Counter\n",
        "from string import punctuation\n",
        "from nltk.tokenize import word_tokenize\n"
      ]
    },
    {
      "cell_type": "code",
      "source": [
        "# Read df\n",
        "df = pd.read_csv('mbti_1.csv')\n",
        "\n",
        "# Global Vars\n",
        "nltk.download('stopwords')\n",
        "nltk.download('punkt')\n",
        "nlp = spacy.load(\"en_core_web_sm\")\n",
        "cachedStopWords = stopwords.words(\"english\")\n",
        "types = df['type'].tolist()\n",
        "set_types = set([i.lower() for i in types])\n",
        "print(set_types)"
      ],
      "metadata": {
        "colab": {
          "base_uri": "https://localhost:8080/"
        },
        "id": "ZWseFvaw__JM",
        "outputId": "ef2f196f-f49e-42a4-9d8a-6bc0484960cc"
      },
      "execution_count": null,
      "outputs": [
        {
          "output_type": "stream",
          "name": "stderr",
          "text": [
            "[nltk_data] Downloading package stopwords to /root/nltk_data...\n",
            "[nltk_data]   Package stopwords is already up-to-date!\n",
            "[nltk_data] Downloading package punkt to /root/nltk_data...\n",
            "[nltk_data]   Package punkt is already up-to-date!\n"
          ]
        },
        {
          "output_type": "stream",
          "name": "stdout",
          "text": [
            "{'infj', 'enfj', 'intp', 'isfp', 'istj', 'estp', 'esfp', 'istp', 'entp', 'estj', 'esfj', 'isfj', 'infp', 'intj', 'enfp', 'entj'}\n"
          ]
        }
      ]
    },
    {
      "cell_type": "code",
      "source": [
        "def remove_stop(row):\n",
        "  global cachedStopWords\n",
        "  global set_types\n",
        "\n",
        "  row = ' '.join([word for word in row.split() if word not in cachedStopWords])\n",
        "  row = ' '.join([word for word in row.split() if word not in set_types])\n",
        "  return row"
      ],
      "metadata": {
        "id": "OyBv7wZEAFR7"
      },
      "execution_count": null,
      "outputs": []
    },
    {
      "cell_type": "code",
      "source": [
        "def lemmatize(row):\n",
        "  doc = nlp(row)\n",
        "  return ' '.join([token.lemma_ for token in doc])"
      ],
      "metadata": {
        "id": "QSMEK01SAI-T"
      },
      "execution_count": null,
      "outputs": []
    },
    {
      "cell_type": "code",
      "source": [
        "def get_keywords(text):\n",
        "    keywords = []\n",
        "    pos_tag = ['PROPN', 'ADJ', 'NOUN'] \n",
        "    doc = nlp(text) \n",
        "    for token in doc:\n",
        "\n",
        "        if(token.text in punctuation):\n",
        "            keywords.append(token.text)\n",
        "\n",
        "        if(token.pos_ in pos_tag):\n",
        "            keywords.append(token.text)\n",
        "    return ' '.join(word for word in keywords)"
      ],
      "metadata": {
        "id": "-KJrJqhKLZTa"
      },
      "execution_count": null,
      "outputs": []
    },
    {
      "cell_type": "code",
      "source": [
        "def remove_unwanted_space(text):\n",
        "    val1 = '.'\n",
        "    sentences = text.split('.')\n",
        "    updated_sentences = []\n",
        "    for sentence in sentences:\n",
        "        updated_sentences.append(sentence.strip())\n",
        "    try:\n",
        "        while True:\n",
        "            updated_sentences.remove(val1)\n",
        "    except ValueError:\n",
        "        pass\n",
        "    val2 = ''\n",
        "    try:\n",
        "        while True:\n",
        "            updated_sentences.remove(val2)\n",
        "    except ValueError:\n",
        "        pass\n",
        "    updated_text = \". \".join(updated_sentences)\n",
        "    return updated_text"
      ],
      "metadata": {
        "id": "a_UzlHWRdOIA"
      },
      "execution_count": null,
      "outputs": []
    },
    {
      "cell_type": "code",
      "source": [
        "df = pd.read_csv('mbti_1.csv')"
      ],
      "metadata": {
        "id": "nAuqdYK_6aL8"
      },
      "execution_count": null,
      "outputs": []
    },
    {
      "cell_type": "code",
      "source": [
        "def process_text(df):\n",
        "\n",
        "  df['posts'] = df['posts'].apply(lambda x: x.lower())\n",
        "  df['posts'] = df['posts'].apply(lambda x: re.sub(r'http\\S+', '', x))\n",
        "  df['posts'] = df['posts'].apply(lambda x: x.replace(\"'\", \"\"))\n",
        "\n",
        "  df['posts'] = df['posts'].apply(lambda x: re.sub(r'[^ a-z\\.]+', '', x))\n",
        "  df['posts'] = df['posts'].apply(lambda x: remove_stop(x))\n",
        "  df['posts'] = df['posts'].apply(lambda x: lemmatize(x))\n",
        "  df['posts'] = df['posts'].apply(lambda x: get_keywords(x))\n",
        "  df['posts'] = df['posts'].apply(lambda x: remove_unwanted_space(x))\n",
        "  return df"
      ],
      "metadata": {
        "id": "cwCN6a2XAJg6"
      },
      "execution_count": null,
      "outputs": []
    },
    {
      "cell_type": "code",
      "source": [
        "df = process_text(df)"
      ],
      "metadata": {
        "id": "S36iW_-yAPPM"
      },
      "execution_count": null,
      "outputs": []
    },
    {
      "cell_type": "code",
      "source": [
        "df.to_csv('preprocessed.csv')"
      ],
      "metadata": {
        "id": "kmjVWZHA9REs"
      },
      "execution_count": null,
      "outputs": []
    },
    {
      "cell_type": "code",
      "source": [
        "df"
      ],
      "metadata": {
        "colab": {
          "base_uri": "https://localhost:8080/",
          "height": 424
        },
        "id": "6vdwhXJ5LjK6",
        "outputId": "69c0a94c-5169-4ce2-c22d-704988527f11"
      },
      "execution_count": null,
      "outputs": [
        {
          "output_type": "execute_result",
          "data": {
            "text/plain": [
              "      type                                              posts\n",
              "0     INFJ  moment sportscenter top prankswhat lifechangin...\n",
              "1     ENTP  lack post alarming.sex bore position . example...\n",
              "2     INTP  good course blessing positive good friend amaz...\n",
              "3     INTJ  dear conversation day . esoteric gabbing natur...\n",
              "4     ENTJ  silly misconception . approach key unlocking e...\n",
              "...    ...                                                ...\n",
              "8670  ISFP  cat fi dom reason . website neo nazis perc.im ...\n",
              "8671  ENFP  thread someplace hereooop movie watch thread t...\n",
              "8672  INTP  many question thing . purple pill . win lotter...\n",
              "8673  INFP  conflict child . maternal instinct . none clos...\n",
              "8674  INFP  personalitycafe change bit good . doctor world...\n",
              "\n",
              "[8675 rows x 2 columns]"
            ],
            "text/html": [
              "\n",
              "  <div id=\"df-12a7560e-d172-4029-88f2-b6b138ab325e\">\n",
              "    <div class=\"colab-df-container\">\n",
              "      <div>\n",
              "<style scoped>\n",
              "    .dataframe tbody tr th:only-of-type {\n",
              "        vertical-align: middle;\n",
              "    }\n",
              "\n",
              "    .dataframe tbody tr th {\n",
              "        vertical-align: top;\n",
              "    }\n",
              "\n",
              "    .dataframe thead th {\n",
              "        text-align: right;\n",
              "    }\n",
              "</style>\n",
              "<table border=\"1\" class=\"dataframe\">\n",
              "  <thead>\n",
              "    <tr style=\"text-align: right;\">\n",
              "      <th></th>\n",
              "      <th>type</th>\n",
              "      <th>posts</th>\n",
              "    </tr>\n",
              "  </thead>\n",
              "  <tbody>\n",
              "    <tr>\n",
              "      <th>0</th>\n",
              "      <td>INFJ</td>\n",
              "      <td>moment sportscenter top prankswhat lifechangin...</td>\n",
              "    </tr>\n",
              "    <tr>\n",
              "      <th>1</th>\n",
              "      <td>ENTP</td>\n",
              "      <td>lack post alarming.sex bore position . example...</td>\n",
              "    </tr>\n",
              "    <tr>\n",
              "      <th>2</th>\n",
              "      <td>INTP</td>\n",
              "      <td>good course blessing positive good friend amaz...</td>\n",
              "    </tr>\n",
              "    <tr>\n",
              "      <th>3</th>\n",
              "      <td>INTJ</td>\n",
              "      <td>dear conversation day . esoteric gabbing natur...</td>\n",
              "    </tr>\n",
              "    <tr>\n",
              "      <th>4</th>\n",
              "      <td>ENTJ</td>\n",
              "      <td>silly misconception . approach key unlocking e...</td>\n",
              "    </tr>\n",
              "    <tr>\n",
              "      <th>...</th>\n",
              "      <td>...</td>\n",
              "      <td>...</td>\n",
              "    </tr>\n",
              "    <tr>\n",
              "      <th>8670</th>\n",
              "      <td>ISFP</td>\n",
              "      <td>cat fi dom reason . website neo nazis perc.im ...</td>\n",
              "    </tr>\n",
              "    <tr>\n",
              "      <th>8671</th>\n",
              "      <td>ENFP</td>\n",
              "      <td>thread someplace hereooop movie watch thread t...</td>\n",
              "    </tr>\n",
              "    <tr>\n",
              "      <th>8672</th>\n",
              "      <td>INTP</td>\n",
              "      <td>many question thing . purple pill . win lotter...</td>\n",
              "    </tr>\n",
              "    <tr>\n",
              "      <th>8673</th>\n",
              "      <td>INFP</td>\n",
              "      <td>conflict child . maternal instinct . none clos...</td>\n",
              "    </tr>\n",
              "    <tr>\n",
              "      <th>8674</th>\n",
              "      <td>INFP</td>\n",
              "      <td>personalitycafe change bit good . doctor world...</td>\n",
              "    </tr>\n",
              "  </tbody>\n",
              "</table>\n",
              "<p>8675 rows × 2 columns</p>\n",
              "</div>\n",
              "      <button class=\"colab-df-convert\" onclick=\"convertToInteractive('df-12a7560e-d172-4029-88f2-b6b138ab325e')\"\n",
              "              title=\"Convert this dataframe to an interactive table.\"\n",
              "              style=\"display:none;\">\n",
              "        \n",
              "  <svg xmlns=\"http://www.w3.org/2000/svg\" height=\"24px\"viewBox=\"0 0 24 24\"\n",
              "       width=\"24px\">\n",
              "    <path d=\"M0 0h24v24H0V0z\" fill=\"none\"/>\n",
              "    <path d=\"M18.56 5.44l.94 2.06.94-2.06 2.06-.94-2.06-.94-.94-2.06-.94 2.06-2.06.94zm-11 1L8.5 8.5l.94-2.06 2.06-.94-2.06-.94L8.5 2.5l-.94 2.06-2.06.94zm10 10l.94 2.06.94-2.06 2.06-.94-2.06-.94-.94-2.06-.94 2.06-2.06.94z\"/><path d=\"M17.41 7.96l-1.37-1.37c-.4-.4-.92-.59-1.43-.59-.52 0-1.04.2-1.43.59L10.3 9.45l-7.72 7.72c-.78.78-.78 2.05 0 2.83L4 21.41c.39.39.9.59 1.41.59.51 0 1.02-.2 1.41-.59l7.78-7.78 2.81-2.81c.8-.78.8-2.07 0-2.86zM5.41 20L4 18.59l7.72-7.72 1.47 1.35L5.41 20z\"/>\n",
              "  </svg>\n",
              "      </button>\n",
              "      \n",
              "  <style>\n",
              "    .colab-df-container {\n",
              "      display:flex;\n",
              "      flex-wrap:wrap;\n",
              "      gap: 12px;\n",
              "    }\n",
              "\n",
              "    .colab-df-convert {\n",
              "      background-color: #E8F0FE;\n",
              "      border: none;\n",
              "      border-radius: 50%;\n",
              "      cursor: pointer;\n",
              "      display: none;\n",
              "      fill: #1967D2;\n",
              "      height: 32px;\n",
              "      padding: 0 0 0 0;\n",
              "      width: 32px;\n",
              "    }\n",
              "\n",
              "    .colab-df-convert:hover {\n",
              "      background-color: #E2EBFA;\n",
              "      box-shadow: 0px 1px 2px rgba(60, 64, 67, 0.3), 0px 1px 3px 1px rgba(60, 64, 67, 0.15);\n",
              "      fill: #174EA6;\n",
              "    }\n",
              "\n",
              "    [theme=dark] .colab-df-convert {\n",
              "      background-color: #3B4455;\n",
              "      fill: #D2E3FC;\n",
              "    }\n",
              "\n",
              "    [theme=dark] .colab-df-convert:hover {\n",
              "      background-color: #434B5C;\n",
              "      box-shadow: 0px 1px 3px 1px rgba(0, 0, 0, 0.15);\n",
              "      filter: drop-shadow(0px 1px 2px rgba(0, 0, 0, 0.3));\n",
              "      fill: #FFFFFF;\n",
              "    }\n",
              "  </style>\n",
              "\n",
              "      <script>\n",
              "        const buttonEl =\n",
              "          document.querySelector('#df-12a7560e-d172-4029-88f2-b6b138ab325e button.colab-df-convert');\n",
              "        buttonEl.style.display =\n",
              "          google.colab.kernel.accessAllowed ? 'block' : 'none';\n",
              "\n",
              "        async function convertToInteractive(key) {\n",
              "          const element = document.querySelector('#df-12a7560e-d172-4029-88f2-b6b138ab325e');\n",
              "          const dataTable =\n",
              "            await google.colab.kernel.invokeFunction('convertToInteractive',\n",
              "                                                     [key], {});\n",
              "          if (!dataTable) return;\n",
              "\n",
              "          const docLinkHtml = 'Like what you see? Visit the ' +\n",
              "            '<a target=\"_blank\" href=https://colab.research.google.com/notebooks/data_table.ipynb>data table notebook</a>'\n",
              "            + ' to learn more about interactive tables.';\n",
              "          element.innerHTML = '';\n",
              "          dataTable['output_type'] = 'display_data';\n",
              "          await google.colab.output.renderOutput(dataTable, element);\n",
              "          const docLink = document.createElement('div');\n",
              "          docLink.innerHTML = docLinkHtml;\n",
              "          element.appendChild(docLink);\n",
              "        }\n",
              "      </script>\n",
              "    </div>\n",
              "  </div>\n",
              "  "
            ]
          },
          "metadata": {},
          "execution_count": 114
        }
      ]
    },
    {
      "cell_type": "code",
      "source": [
        "!wget http://nlp.stanford.edu/data/glove.6B.zip\n",
        "!unzip glove*.zip\n",
        "!ls\n",
        "!pwd\n",
        "print('Indexing word vectors.')\n",
        "\n",
        "embeddings_index = {}\n",
        "f = open('glove.6B.100d.txt', encoding='utf-8')\n",
        "for line in f:\n",
        "    values = line.split()\n",
        "    word = values[0]\n",
        "    coefs = np.asarray(values[1:], dtype='float32')\n",
        "    embeddings_index[word] = coefs\n",
        "f.close()\n",
        "\n",
        "print('Found %s word vectors.' % len(embeddings_index))"
      ],
      "metadata": {
        "colab": {
          "base_uri": "https://localhost:8080/"
        },
        "id": "IuGgclmZZHv4",
        "outputId": "43485840-8b45-4d16-ca1a-2eff353407c1"
      },
      "execution_count": null,
      "outputs": [
        {
          "output_type": "stream",
          "name": "stdout",
          "text": [
            "--2022-11-03 16:48:36--  http://nlp.stanford.edu/data/glove.6B.zip\n",
            "Resolving nlp.stanford.edu (nlp.stanford.edu)... 171.64.67.140\n",
            "Connecting to nlp.stanford.edu (nlp.stanford.edu)|171.64.67.140|:80... connected.\n",
            "HTTP request sent, awaiting response... 302 Found\n",
            "Location: https://nlp.stanford.edu/data/glove.6B.zip [following]\n",
            "--2022-11-03 16:48:36--  https://nlp.stanford.edu/data/glove.6B.zip\n",
            "Connecting to nlp.stanford.edu (nlp.stanford.edu)|171.64.67.140|:443... connected.\n",
            "HTTP request sent, awaiting response... 301 Moved Permanently\n",
            "Location: https://downloads.cs.stanford.edu/nlp/data/glove.6B.zip [following]\n",
            "--2022-11-03 16:48:36--  https://downloads.cs.stanford.edu/nlp/data/glove.6B.zip\n",
            "Resolving downloads.cs.stanford.edu (downloads.cs.stanford.edu)... 171.64.64.22\n",
            "Connecting to downloads.cs.stanford.edu (downloads.cs.stanford.edu)|171.64.64.22|:443... connected.\n",
            "HTTP request sent, awaiting response... 200 OK\n",
            "Length: 862182613 (822M) [application/zip]\n",
            "Saving to: ‘glove.6B.zip’\n",
            "\n",
            "glove.6B.zip        100%[===================>] 822.24M  5.01MB/s    in 2m 39s  \n",
            "\n",
            "2022-11-03 16:51:16 (5.16 MB/s) - ‘glove.6B.zip’ saved [862182613/862182613]\n",
            "\n",
            "Archive:  glove.6B.zip\n",
            "  inflating: glove.6B.50d.txt        \n",
            "  inflating: glove.6B.100d.txt       \n",
            "  inflating: glove.6B.200d.txt       \n",
            "  inflating: glove.6B.300d.txt       \n",
            "glove.6B.100d.txt  glove.6B.300d.txt  glove.6B.zip  preprocessed.csv\n",
            "glove.6B.200d.txt  glove.6B.50d.txt   mbti_1.csv    sample_data\n",
            "/content\n",
            "Indexing word vectors.\n",
            "Found 400000 word vectors.\n"
          ]
        }
      ]
    },
    {
      "cell_type": "code",
      "source": [
        "def do_embedding(row):\n",
        "  vector_list = []\n",
        "  for word in row:\n",
        "    try:\n",
        "      vector_list.append(embeddings_index[word])\n",
        "    except:\n",
        "      pass\n",
        "  return vector_list\n",
        "\n",
        "def word_embeddings(df):\n",
        "  df['vectors'] = df['posts'].apply(lambda x: do_embedding(x))\n",
        "  return df"
      ],
      "metadata": {
        "id": "TpPfmqjpZSnw"
      },
      "execution_count": null,
      "outputs": []
    },
    {
      "cell_type": "code",
      "source": [
        "vectorized_df = word_embeddings(df)\n",
        "vectorized_df.to_pickle(\"vectorized.pkl\")"
      ],
      "metadata": {
        "id": "ROqoK5LiaCXc"
      },
      "execution_count": null,
      "outputs": []
    },
    {
      "cell_type": "code",
      "source": [
        "print(len(df), len(vectorized_df))\n",
        "vectorized_df"
      ],
      "metadata": {
        "colab": {
          "base_uri": "https://localhost:8080/",
          "height": 441
        },
        "id": "fu8QbjXZaZYd",
        "outputId": "52d3a0a7-6b27-47d2-ae52-318de6a5655d"
      },
      "execution_count": null,
      "outputs": [
        {
          "output_type": "stream",
          "name": "stdout",
          "text": [
            "8675 8675\n"
          ]
        },
        {
          "output_type": "execute_result",
          "data": {
            "text/plain": [
              "      type                                              posts  \\\n",
              "0     INFJ  moment sportscenter top prankswhat lifechangin...   \n",
              "1     ENTP  lack post alarming.sex bore position . example...   \n",
              "2     INTP  good course blessing positive good friend amaz...   \n",
              "3     INTJ  dear conversation day . esoteric gabbing natur...   \n",
              "4     ENTJ  silly misconception . approach key unlocking e...   \n",
              "...    ...                                                ...   \n",
              "8670  ISFP  cat fi dom reason . website neo nazis perc.im ...   \n",
              "8671  ENFP  thread someplace hereooop movie watch thread t...   \n",
              "8672  INTP  many question thing . purple pill . win lotter...   \n",
              "8673  INFP  conflict child . maternal instinct . none clos...   \n",
              "8674  INFP  personalitycafe change bit good . doctor world...   \n",
              "\n",
              "                                                vectors  \n",
              "0     [[0.29492, 0.56874, -0.20245, 0.50244, -0.6829...  \n",
              "1     [[-0.45433, 1.0234, 0.024278, -0.086367, -0.69...  \n",
              "2     [[-0.37628, 0.37102, 0.32594, -0.085084, -0.55...  \n",
              "3     [[-0.91091, 0.50459, 0.058175, -0.78618, 0.088...  \n",
              "4     [[0.13739, 0.77891, 0.80054, 0.13819, -0.49792...  \n",
              "...                                                 ...  \n",
              "8670  [[-0.11752, 0.97272, -0.29021, 0.25914, -0.426...  \n",
              "8671  [[0.13482, 0.40224, -0.42266, -0.055631, -0.55...  \n",
              "8672  [[0.29492, 0.56874, -0.20245, 0.50244, -0.6829...  \n",
              "8673  [[-0.11752, 0.97272, -0.29021, 0.25914, -0.426...  \n",
              "8674  [[-0.6517, 0.80484, 0.048731, 0.37962, -1.1151...  \n",
              "\n",
              "[8675 rows x 3 columns]"
            ],
            "text/html": [
              "\n",
              "  <div id=\"df-279f5d0f-7b6b-45f8-ba5a-09a8c774e03c\">\n",
              "    <div class=\"colab-df-container\">\n",
              "      <div>\n",
              "<style scoped>\n",
              "    .dataframe tbody tr th:only-of-type {\n",
              "        vertical-align: middle;\n",
              "    }\n",
              "\n",
              "    .dataframe tbody tr th {\n",
              "        vertical-align: top;\n",
              "    }\n",
              "\n",
              "    .dataframe thead th {\n",
              "        text-align: right;\n",
              "    }\n",
              "</style>\n",
              "<table border=\"1\" class=\"dataframe\">\n",
              "  <thead>\n",
              "    <tr style=\"text-align: right;\">\n",
              "      <th></th>\n",
              "      <th>type</th>\n",
              "      <th>posts</th>\n",
              "      <th>vectors</th>\n",
              "    </tr>\n",
              "  </thead>\n",
              "  <tbody>\n",
              "    <tr>\n",
              "      <th>0</th>\n",
              "      <td>INFJ</td>\n",
              "      <td>moment sportscenter top prankswhat lifechangin...</td>\n",
              "      <td>[[0.29492, 0.56874, -0.20245, 0.50244, -0.6829...</td>\n",
              "    </tr>\n",
              "    <tr>\n",
              "      <th>1</th>\n",
              "      <td>ENTP</td>\n",
              "      <td>lack post alarming.sex bore position . example...</td>\n",
              "      <td>[[-0.45433, 1.0234, 0.024278, -0.086367, -0.69...</td>\n",
              "    </tr>\n",
              "    <tr>\n",
              "      <th>2</th>\n",
              "      <td>INTP</td>\n",
              "      <td>good course blessing positive good friend amaz...</td>\n",
              "      <td>[[-0.37628, 0.37102, 0.32594, -0.085084, -0.55...</td>\n",
              "    </tr>\n",
              "    <tr>\n",
              "      <th>3</th>\n",
              "      <td>INTJ</td>\n",
              "      <td>dear conversation day . esoteric gabbing natur...</td>\n",
              "      <td>[[-0.91091, 0.50459, 0.058175, -0.78618, 0.088...</td>\n",
              "    </tr>\n",
              "    <tr>\n",
              "      <th>4</th>\n",
              "      <td>ENTJ</td>\n",
              "      <td>silly misconception . approach key unlocking e...</td>\n",
              "      <td>[[0.13739, 0.77891, 0.80054, 0.13819, -0.49792...</td>\n",
              "    </tr>\n",
              "    <tr>\n",
              "      <th>...</th>\n",
              "      <td>...</td>\n",
              "      <td>...</td>\n",
              "      <td>...</td>\n",
              "    </tr>\n",
              "    <tr>\n",
              "      <th>8670</th>\n",
              "      <td>ISFP</td>\n",
              "      <td>cat fi dom reason . website neo nazis perc.im ...</td>\n",
              "      <td>[[-0.11752, 0.97272, -0.29021, 0.25914, -0.426...</td>\n",
              "    </tr>\n",
              "    <tr>\n",
              "      <th>8671</th>\n",
              "      <td>ENFP</td>\n",
              "      <td>thread someplace hereooop movie watch thread t...</td>\n",
              "      <td>[[0.13482, 0.40224, -0.42266, -0.055631, -0.55...</td>\n",
              "    </tr>\n",
              "    <tr>\n",
              "      <th>8672</th>\n",
              "      <td>INTP</td>\n",
              "      <td>many question thing . purple pill . win lotter...</td>\n",
              "      <td>[[0.29492, 0.56874, -0.20245, 0.50244, -0.6829...</td>\n",
              "    </tr>\n",
              "    <tr>\n",
              "      <th>8673</th>\n",
              "      <td>INFP</td>\n",
              "      <td>conflict child . maternal instinct . none clos...</td>\n",
              "      <td>[[-0.11752, 0.97272, -0.29021, 0.25914, -0.426...</td>\n",
              "    </tr>\n",
              "    <tr>\n",
              "      <th>8674</th>\n",
              "      <td>INFP</td>\n",
              "      <td>personalitycafe change bit good . doctor world...</td>\n",
              "      <td>[[-0.6517, 0.80484, 0.048731, 0.37962, -1.1151...</td>\n",
              "    </tr>\n",
              "  </tbody>\n",
              "</table>\n",
              "<p>8675 rows × 3 columns</p>\n",
              "</div>\n",
              "      <button class=\"colab-df-convert\" onclick=\"convertToInteractive('df-279f5d0f-7b6b-45f8-ba5a-09a8c774e03c')\"\n",
              "              title=\"Convert this dataframe to an interactive table.\"\n",
              "              style=\"display:none;\">\n",
              "        \n",
              "  <svg xmlns=\"http://www.w3.org/2000/svg\" height=\"24px\"viewBox=\"0 0 24 24\"\n",
              "       width=\"24px\">\n",
              "    <path d=\"M0 0h24v24H0V0z\" fill=\"none\"/>\n",
              "    <path d=\"M18.56 5.44l.94 2.06.94-2.06 2.06-.94-2.06-.94-.94-2.06-.94 2.06-2.06.94zm-11 1L8.5 8.5l.94-2.06 2.06-.94-2.06-.94L8.5 2.5l-.94 2.06-2.06.94zm10 10l.94 2.06.94-2.06 2.06-.94-2.06-.94-.94-2.06-.94 2.06-2.06.94z\"/><path d=\"M17.41 7.96l-1.37-1.37c-.4-.4-.92-.59-1.43-.59-.52 0-1.04.2-1.43.59L10.3 9.45l-7.72 7.72c-.78.78-.78 2.05 0 2.83L4 21.41c.39.39.9.59 1.41.59.51 0 1.02-.2 1.41-.59l7.78-7.78 2.81-2.81c.8-.78.8-2.07 0-2.86zM5.41 20L4 18.59l7.72-7.72 1.47 1.35L5.41 20z\"/>\n",
              "  </svg>\n",
              "      </button>\n",
              "      \n",
              "  <style>\n",
              "    .colab-df-container {\n",
              "      display:flex;\n",
              "      flex-wrap:wrap;\n",
              "      gap: 12px;\n",
              "    }\n",
              "\n",
              "    .colab-df-convert {\n",
              "      background-color: #E8F0FE;\n",
              "      border: none;\n",
              "      border-radius: 50%;\n",
              "      cursor: pointer;\n",
              "      display: none;\n",
              "      fill: #1967D2;\n",
              "      height: 32px;\n",
              "      padding: 0 0 0 0;\n",
              "      width: 32px;\n",
              "    }\n",
              "\n",
              "    .colab-df-convert:hover {\n",
              "      background-color: #E2EBFA;\n",
              "      box-shadow: 0px 1px 2px rgba(60, 64, 67, 0.3), 0px 1px 3px 1px rgba(60, 64, 67, 0.15);\n",
              "      fill: #174EA6;\n",
              "    }\n",
              "\n",
              "    [theme=dark] .colab-df-convert {\n",
              "      background-color: #3B4455;\n",
              "      fill: #D2E3FC;\n",
              "    }\n",
              "\n",
              "    [theme=dark] .colab-df-convert:hover {\n",
              "      background-color: #434B5C;\n",
              "      box-shadow: 0px 1px 3px 1px rgba(0, 0, 0, 0.15);\n",
              "      filter: drop-shadow(0px 1px 2px rgba(0, 0, 0, 0.3));\n",
              "      fill: #FFFFFF;\n",
              "    }\n",
              "  </style>\n",
              "\n",
              "      <script>\n",
              "        const buttonEl =\n",
              "          document.querySelector('#df-279f5d0f-7b6b-45f8-ba5a-09a8c774e03c button.colab-df-convert');\n",
              "        buttonEl.style.display =\n",
              "          google.colab.kernel.accessAllowed ? 'block' : 'none';\n",
              "\n",
              "        async function convertToInteractive(key) {\n",
              "          const element = document.querySelector('#df-279f5d0f-7b6b-45f8-ba5a-09a8c774e03c');\n",
              "          const dataTable =\n",
              "            await google.colab.kernel.invokeFunction('convertToInteractive',\n",
              "                                                     [key], {});\n",
              "          if (!dataTable) return;\n",
              "\n",
              "          const docLinkHtml = 'Like what you see? Visit the ' +\n",
              "            '<a target=\"_blank\" href=https://colab.research.google.com/notebooks/data_table.ipynb>data table notebook</a>'\n",
              "            + ' to learn more about interactive tables.';\n",
              "          element.innerHTML = '';\n",
              "          dataTable['output_type'] = 'display_data';\n",
              "          await google.colab.output.renderOutput(dataTable, element);\n",
              "          const docLink = document.createElement('div');\n",
              "          docLink.innerHTML = docLinkHtml;\n",
              "          element.appendChild(docLink);\n",
              "        }\n",
              "      </script>\n",
              "    </div>\n",
              "  </div>\n",
              "  "
            ]
          },
          "metadata": {},
          "execution_count": 129
        }
      ]
    },
    {
      "cell_type": "code",
      "source": [
        "# Read pickle\n",
        "vectorized_df = pd.read_pickle(\"vectorized.pkl\")"
      ],
      "metadata": {
        "id": "q_PXc4Kz94iV"
      },
      "execution_count": null,
      "outputs": []
    }
  ]
}